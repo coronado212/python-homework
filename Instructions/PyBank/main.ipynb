{
 "cells": [
  {
   "cell_type": "code",
   "execution_count": 2,
   "metadata": {},
   "outputs": [],
   "source": [
    "# Import csv and pathlib\n",
    "import csv\n",
    "from pathlib import Path"
   ]
  },
  {
   "cell_type": "code",
   "execution_count": 3,
   "metadata": {},
   "outputs": [],
   "source": [
    "# Set import file path\n",
    "import_file = Path(\"Resources/budget_data.csv\")"
   ]
  },
  {
   "cell_type": "code",
   "execution_count": 4,
   "metadata": {},
   "outputs": [],
   "source": [
    "# Set output file path\n",
    "output_file = Path(\"Resources/output.txt\")"
   ]
  },
  {
   "cell_type": "markdown",
   "metadata": {},
   "source": [
    "* The total number of months included in the dataset.\n",
    "\n",
    "* The net total amount of Profit/Losses over the entire period.\n",
    "\n",
    "* The average of the changes in Profit/Losses over the entire period.\n",
    "\n",
    "* The greatest increase in profits (date and amount) over the entire period.\n",
    "\n",
    "* The greatest decrease in losses (date and amount) over the entire period."
   ]
  },
  {
   "cell_type": "code",
   "execution_count": 5,
   "metadata": {},
   "outputs": [],
   "source": [
    "# Initialize variables\n",
    "total_months = 0\n",
    "total_profits = 0\n",
    "average_change = 0\n",
    "greatest_increase_in_profits = [0,0]\n",
    "greatest_decrease_in_profits = [0,0]\n",
    "net_change_list = []"
   ]
  },
  {
   "cell_type": "code",
   "execution_count": 6,
   "metadata": {
    "tags": []
   },
   "outputs": [
    {
     "output_type": "stream",
     "name": "stdout",
     "text": "<class '_csv.reader'>\n"
    }
   ],
   "source": [
    "# Open input path as a file object\n",
    "with open(import_file) as data: \n",
    "    # Print the datatype of the file object\n",
    "#     print(type(data))\n",
    "    # Pass in the CSV file to the CSV reader() function\n",
    "    reader= csv.reader(data)\n",
    "    # Print the datatype of the csvreader\n",
    "    print(type(reader))\n",
    "    # Go to next row from start of the file\n",
    "    header= next(reader)\n",
    "    first_row = next(reader)\n",
    "    \n",
    "    total_months=total_months+1\n",
    "    total_profits=total_profits + int(first_row[1])\n",
    "    \n",
    "    # Read each row of data after the header\n",
    "    prev_net = int(first_row[1])\n",
    "    \n",
    "    for row in reader:\n",
    "        # Sum the total and count variables\n",
    "        total_months=total_months+1\n",
    "        total_profits=total_profits + int(row[1])\n",
    "        \n",
    "        # Net change\n",
    "        net_change = int(row[1]) - prev_net\n",
    "        prev_net = int(row[1])\n",
    "        net_change_list = net_change_list + [net_change]\n",
    "        \n",
    "        # Calculate the greatest decrease\n",
    "        if net_change < greatest_decrease_in_profits[1]:\n",
    "            greatest_decrease_in_profits[0] = row[0]\n",
    "            greatest_decrease_in_profits[1] = net_change\n",
    "            \n",
    "        # Calculate the greatest increase\n",
    "        if net_change > greatest_increase_in_profits[1]:\n",
    "            greatest_increase_in_profits[0] = row[0]\n",
    "            greatest_increase_in_profits[1] = net_change\n",
    "            \n",
    "        # Average Net Change\n",
    "        average_change= sum(net_change_list) / len(net_change_list)\n",
    "        average_change= round(average_change, 2)"
   ]
  },
  {
   "cell_type": "code",
   "execution_count": 7,
   "metadata": {
    "tags": []
   },
   "outputs": [
    {
     "output_type": "stream",
     "name": "stdout",
     "text": "Financial Analysis\n------------------\nTotal Months: 86\nTotal: 38382578\nAverage Change: -2315.12\nGreatest Increase in Profits: ['Feb-2012', 1926159]\nGreatest Decrease in Profits: ['Sep-2013', -2196167]\n"
    }
   ],
   "source": [
    "print('Financial Analysis')\n",
    "print('-' * 18)\n",
    "print('Total Months:', total_months)\n",
    "print('Total:', total_profits)\n",
    "print('Average Change:', average_change)\n",
    "print('Greatest Increase in Profits:', greatest_increase_in_profits)\n",
    "print('Greatest Decrease in Profits:', greatest_decrease_in_profits)"
   ]
  },
  {
   "cell_type": "code",
   "execution_count": null,
   "metadata": {},
   "outputs": [],
   "source": []
  }
 ],
 "metadata": {
  "kernelspec": {
   "display_name": "Python 3",
   "language": "python",
   "name": "python3"
  },
  "language_info": {
   "codemirror_mode": {
    "name": "ipython",
    "version": 3
   },
   "file_extension": ".py",
   "mimetype": "text/x-python",
   "name": "python",
   "nbconvert_exporter": "python",
   "pygments_lexer": "ipython3",
   "version": "3.8.3-final"
  }
 },
 "nbformat": 4,
 "nbformat_minor": 4
}